{
 "cells": [
  {
   "cell_type": "markdown",
   "id": "0",
   "metadata": {},
   "source": [
    "# Libraries"
   ]
  },
  {
   "cell_type": "code",
   "execution_count": null,
   "id": "1",
   "metadata": {},
   "outputs": [],
   "source": [
    "import sys, os\n",
    "sys.path.append(os.path.abspath(os.path.join('..')))"
   ]
  },
  {
   "cell_type": "code",
   "execution_count": null,
   "id": "2",
   "metadata": {},
   "outputs": [],
   "source": [
    "from pyspark.sql import functions as F, types as T, SparkSession\n",
    "from pyspark.sql.utils import AnalysisException\n",
    "from delta import DeltaTable, configure_spark_with_delta_pip\n",
    "from src.path_controller import PathController"
   ]
  },
  {
   "cell_type": "markdown",
   "id": "3",
   "metadata": {},
   "source": [
    "# Extracting"
   ]
  },
  {
   "cell_type": "code",
   "execution_count": null,
   "id": "4",
   "metadata": {},
   "outputs": [],
   "source": [
    "builder = (\n",
    "    SparkSession.builder.appName(\"MyApp\")\n",
    "    .config(\"spark.sql.extensions\", \"io.delta.sql.DeltaSparkSessionExtension\")\n",
    "    .config(\"spark.sql.catalog.spark_catalog\", \"org.apache.spark.sql.delta.catalog.DeltaCatalog\")\n",
    ")\n",
    "\n",
    "spark = configure_spark_with_delta_pip(builder).getOrCreate()\n",
    "\n",
    "controller = PathController()\n",
    "input_file_path = controller.get_path_for_bronze_layer('openbrewerydb', 'rest_api', 'breweries', 'response.json')"
   ]
  },
  {
   "cell_type": "code",
   "execution_count": null,
   "id": "5",
   "metadata": {},
   "outputs": [],
   "source": [
    "bronze_breweries = spark.read.json(input_file_path, multiLine=True)"
   ]
  },
  {
   "cell_type": "markdown",
   "id": "6",
   "metadata": {},
   "source": [
    "# Loading"
   ]
  },
  {
   "cell_type": "code",
   "execution_count": null,
   "id": "7",
   "metadata": {},
   "outputs": [],
   "source": [
    "output_file_path = controller.get_path_for_silver_layer('breweries_database', 'master_data_context', 'breweries')\n",
    "try:\n",
    "    silver_table = DeltaTable.forPath(spark, output_file_path)\n",
    "    \n",
    "    (\n",
    "        silver_table.alias(\"old\")\n",
    "        .merge(bronze_breweries.alias(\"new\"), \"old.id = new.id\")\n",
    "        .whenMatchedUpdate(set={\n",
    "            \"phone\": F.col(\"new.phone\"),\n",
    "            \"website_url\": F.col(\"new.website_url\"),\n",
    "            \"name\": F.col(\"new.name\")\n",
    "        })\n",
    "        .whenNotMatchedInsertAll()\n",
    "        .execute()\n",
    "    )\n",
    "except AnalysisException:\n",
    "    (\n",
    "        bronze_breweries\n",
    "        .write.mode('overwrite').format('delta')\n",
    "        .partitionBy('state')\n",
    "        .save(output_file_path)\n",
    "    )"
   ]
  }
 ],
 "metadata": {
  "kernelspec": {
   "display_name": "Python 3 (ipykernel)",
   "language": "python",
   "name": "python3"
  },
  "language_info": {
   "codemirror_mode": {
    "name": "ipython",
    "version": 3
   },
   "file_extension": ".py",
   "mimetype": "text/x-python",
   "name": "python",
   "nbconvert_exporter": "python",
   "pygments_lexer": "ipython3",
   "version": "3.11.9+"
  }
 },
 "nbformat": 4,
 "nbformat_minor": 5
}
