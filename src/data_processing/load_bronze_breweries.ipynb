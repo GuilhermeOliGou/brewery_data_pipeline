{
 "cells": [
  {
   "cell_type": "markdown",
   "id": "f59df813",
   "metadata": {},
   "source": [
    "# Environment setup"
   ]
  },
  {
   "cell_type": "code",
   "execution_count": 8,
   "id": "f9d435f6",
   "metadata": {},
   "outputs": [],
   "source": [
    "from pyspark.sql import SparkSession, functions as F, types as T\n",
    "import requests\n",
    "import json\n",
    "import os"
   ]
  },
  {
   "cell_type": "markdown",
   "id": "a39af550",
   "metadata": {},
   "source": [
    "# Input params"
   ]
  },
  {
   "cell_type": "code",
   "execution_count": 6,
   "id": "73bf8d3f",
   "metadata": {},
   "outputs": [],
   "source": [
    "breweries_api_endpoint = 'https://api.openbrewerydb.org/breweries'\n",
    "response = requests.get(breweries_api_endpoint)\n",
    "response.raise_for_status()"
   ]
  },
  {
   "cell_type": "code",
   "execution_count": 9,
   "id": "3bf9671c-ea96-4689-95d0-78acabab31ed",
   "metadata": {},
   "outputs": [],
   "source": [
    "data = response.json()\n",
    "output_file_path = '../../data/bronze_layer/breweries/response.json'\n",
    "directory = os.path.dirname(output_file_path)\n",
    "\n",
    "if not os.path.exists(directory):\n",
    "    os.makedirs(directory)\n",
    "\n",
    "with open(output_file, \"w\") as file:\n",
    "        json.dump(data, file, indent=4)"
   ]
  }
 ],
 "metadata": {
  "kernelspec": {
   "display_name": "Python 3 (ipykernel)",
   "language": "python",
   "name": "python3"
  },
  "language_info": {
   "codemirror_mode": {
    "name": "ipython",
    "version": 3
   },
   "file_extension": ".py",
   "mimetype": "text/x-python",
   "name": "python",
   "nbconvert_exporter": "python",
   "pygments_lexer": "ipython3",
   "version": "3.11.9+"
  }
 },
 "nbformat": 4,
 "nbformat_minor": 5
}
